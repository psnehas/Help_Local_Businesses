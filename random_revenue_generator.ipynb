{
 "cells": [
  {
   "cell_type": "markdown",
   "metadata": {},
   "source": [
    "## REVENUE DATA GENERATOR"
   ]
  },
  {
   "cell_type": "markdown",
   "metadata": {},
   "source": [
    "### Importing essential libraries"
   ]
  },
  {
   "cell_type": "code",
   "execution_count": 3,
   "metadata": {},
   "outputs": [],
   "source": [
    "\n",
    "import numpy as np \n",
    "import pandas as pd \n",
    "from random import randint\n",
    "import matplotlib.pyplot as plt \n",
    "%matplotlib inline"
   ]
  },
  {
   "cell_type": "markdown",
   "metadata": {},
   "source": [
    "### Importing a relevant datasets"
   ]
  },
  {
   "cell_type": "code",
   "execution_count": 4,
   "metadata": {},
   "outputs": [
    {
     "output_type": "execute_result",
     "data": {
      "text/plain": "   Unnamed: 0         ISBN                    store_name gender_of_owner\n0           0  357765302-7                 Waters-Wunsch          Female\n1           1  998155268-2             VonRueden-Jenkins            Male\n2           2  515154998-7  Stanton, Gislason and Deckow          Female\n3           3  997744982-1                     Auer-Lind          Female\n4           4  484474585-9               Zulauf and Sons          Female",
      "text/html": "<div>\n<style scoped>\n    .dataframe tbody tr th:only-of-type {\n        vertical-align: middle;\n    }\n\n    .dataframe tbody tr th {\n        vertical-align: top;\n    }\n\n    .dataframe thead th {\n        text-align: right;\n    }\n</style>\n<table border=\"1\" class=\"dataframe\">\n  <thead>\n    <tr style=\"text-align: right;\">\n      <th></th>\n      <th>Unnamed: 0</th>\n      <th>ISBN</th>\n      <th>store_name</th>\n      <th>gender_of_owner</th>\n    </tr>\n  </thead>\n  <tbody>\n    <tr>\n      <td>0</td>\n      <td>0</td>\n      <td>357765302-7</td>\n      <td>Waters-Wunsch</td>\n      <td>Female</td>\n    </tr>\n    <tr>\n      <td>1</td>\n      <td>1</td>\n      <td>998155268-2</td>\n      <td>VonRueden-Jenkins</td>\n      <td>Male</td>\n    </tr>\n    <tr>\n      <td>2</td>\n      <td>2</td>\n      <td>515154998-7</td>\n      <td>Stanton, Gislason and Deckow</td>\n      <td>Female</td>\n    </tr>\n    <tr>\n      <td>3</td>\n      <td>3</td>\n      <td>997744982-1</td>\n      <td>Auer-Lind</td>\n      <td>Female</td>\n    </tr>\n    <tr>\n      <td>4</td>\n      <td>4</td>\n      <td>484474585-9</td>\n      <td>Zulauf and Sons</td>\n      <td>Female</td>\n    </tr>\n  </tbody>\n</table>\n</div>"
     },
     "metadata": {},
     "execution_count": 4
    }
   ],
   "source": [
    "# A randomly generated local book store data\n",
    "\n",
    "mock_data = pd.read_csv(\"mock_data.csv\")\n",
    "mock_data.head()"
   ]
  },
  {
   "cell_type": "code",
   "execution_count": 5,
   "metadata": {},
   "outputs": [],
   "source": [
    "# Dropping unnecessary feature \n",
    "\n",
    "mock_data.drop('Unnamed: 0', axis=1, inplace=True)"
   ]
  },
  {
   "cell_type": "code",
   "execution_count": 6,
   "metadata": {},
   "outputs": [
    {
     "output_type": "execute_result",
     "data": {
      "text/plain": "          ISBN                    store_name gender_of_owner\n0  357765302-7                 Waters-Wunsch          Female\n1  998155268-2             VonRueden-Jenkins            Male\n2  515154998-7  Stanton, Gislason and Deckow          Female\n3  997744982-1                     Auer-Lind          Female\n4  484474585-9               Zulauf and Sons          Female",
      "text/html": "<div>\n<style scoped>\n    .dataframe tbody tr th:only-of-type {\n        vertical-align: middle;\n    }\n\n    .dataframe tbody tr th {\n        vertical-align: top;\n    }\n\n    .dataframe thead th {\n        text-align: right;\n    }\n</style>\n<table border=\"1\" class=\"dataframe\">\n  <thead>\n    <tr style=\"text-align: right;\">\n      <th></th>\n      <th>ISBN</th>\n      <th>store_name</th>\n      <th>gender_of_owner</th>\n    </tr>\n  </thead>\n  <tbody>\n    <tr>\n      <td>0</td>\n      <td>357765302-7</td>\n      <td>Waters-Wunsch</td>\n      <td>Female</td>\n    </tr>\n    <tr>\n      <td>1</td>\n      <td>998155268-2</td>\n      <td>VonRueden-Jenkins</td>\n      <td>Male</td>\n    </tr>\n    <tr>\n      <td>2</td>\n      <td>515154998-7</td>\n      <td>Stanton, Gislason and Deckow</td>\n      <td>Female</td>\n    </tr>\n    <tr>\n      <td>3</td>\n      <td>997744982-1</td>\n      <td>Auer-Lind</td>\n      <td>Female</td>\n    </tr>\n    <tr>\n      <td>4</td>\n      <td>484474585-9</td>\n      <td>Zulauf and Sons</td>\n      <td>Female</td>\n    </tr>\n  </tbody>\n</table>\n</div>"
     },
     "metadata": {},
     "execution_count": 6
    }
   ],
   "source": [
    "# looking at the first element of mock_data for checking\n",
    "\n",
    "mock_data.head()"
   ]
  },
  {
   "cell_type": "code",
   "execution_count": 7,
   "metadata": {},
   "outputs": [
    {
     "output_type": "execute_result",
     "data": {
      "text/plain": "     PO_NAME                                           the_geom    ZIP STATE  \\\n0       NAPA  MULTIPOLYGON (((-122.10329200180091 38.5132829...  94558    CA   \n1  FAIRFIELD  MULTIPOLYGON (((-121.947475002335 38.301511000...  94533    CA   \n2      DIXON  MULTIPOLYGON (((-121.65335500334429 38.3133870...  95620    CA   \n3     SONOMA  MULTIPOLYGON (((-122.406843003057 38.155681999...  95476    CA   \n4       NAPA  MULTIPOLYGON (((-122.29368500225117 38.1552379...  94559    CA   \n\n         Area__       Length__  \n0  1.231326e+10  995176.225313  \n1  9.917861e+08  200772.556587  \n2  7.236950e+09  441860.201400  \n3  3.001414e+09  311318.546326  \n4  1.194302e+09  359104.646602  ",
      "text/html": "<div>\n<style scoped>\n    .dataframe tbody tr th:only-of-type {\n        vertical-align: middle;\n    }\n\n    .dataframe tbody tr th {\n        vertical-align: top;\n    }\n\n    .dataframe thead th {\n        text-align: right;\n    }\n</style>\n<table border=\"1\" class=\"dataframe\">\n  <thead>\n    <tr style=\"text-align: right;\">\n      <th></th>\n      <th>PO_NAME</th>\n      <th>the_geom</th>\n      <th>ZIP</th>\n      <th>STATE</th>\n      <th>Area__</th>\n      <th>Length__</th>\n    </tr>\n  </thead>\n  <tbody>\n    <tr>\n      <td>0</td>\n      <td>NAPA</td>\n      <td>MULTIPOLYGON (((-122.10329200180091 38.5132829...</td>\n      <td>94558</td>\n      <td>CA</td>\n      <td>1.231326e+10</td>\n      <td>995176.225313</td>\n    </tr>\n    <tr>\n      <td>1</td>\n      <td>FAIRFIELD</td>\n      <td>MULTIPOLYGON (((-121.947475002335 38.301511000...</td>\n      <td>94533</td>\n      <td>CA</td>\n      <td>9.917861e+08</td>\n      <td>200772.556587</td>\n    </tr>\n    <tr>\n      <td>2</td>\n      <td>DIXON</td>\n      <td>MULTIPOLYGON (((-121.65335500334429 38.3133870...</td>\n      <td>95620</td>\n      <td>CA</td>\n      <td>7.236950e+09</td>\n      <td>441860.201400</td>\n    </tr>\n    <tr>\n      <td>3</td>\n      <td>SONOMA</td>\n      <td>MULTIPOLYGON (((-122.406843003057 38.155681999...</td>\n      <td>95476</td>\n      <td>CA</td>\n      <td>3.001414e+09</td>\n      <td>311318.546326</td>\n    </tr>\n    <tr>\n      <td>4</td>\n      <td>NAPA</td>\n      <td>MULTIPOLYGON (((-122.29368500225117 38.1552379...</td>\n      <td>94559</td>\n      <td>CA</td>\n      <td>1.194302e+09</td>\n      <td>359104.646602</td>\n    </tr>\n  </tbody>\n</table>\n</div>"
     },
     "metadata": {},
     "execution_count": 7
    }
   ],
   "source": [
    "# Importing bay area zip code data\n",
    "\n",
    "bay_zip = pd.read_csv(\"bayarea_zipcodes.csv\")\n",
    "bay_zip.head()"
   ]
  },
  {
   "cell_type": "markdown",
   "metadata": {},
   "source": [
    "### Systemic random revenue data generation"
   ]
  },
  {
   "cell_type": "code",
   "execution_count": 8,
   "metadata": {},
   "outputs": [],
   "source": [
    "# Initial random revenue generation for the year 2010 -> considering local businesses with $50,000 - $200,000 revenue in 2010\n",
    "\n",
    "revenue_2010 = []\n",
    "for i in range(mock_data.shape[0]):\n",
    "    k = randint(50000, 200000)\n",
    "    revenue_2010.append(k)"
   ]
  },
  {
   "cell_type": "code",
   "execution_count": 9,
   "metadata": {},
   "outputs": [],
   "source": [
    "# A Function to Generate a new list of revenue for local bussinesses based on the previous year revenue\n",
    "\n",
    "# Input: 'lst' -> a list of revenue from previous year \n",
    "       # Bigger local stores making comparatively more revenue than small ones\n",
    "\n",
    "# Ouput: Returns a lisf of revenue for the current year\n",
    "\n",
    "def gen_data(lst):\n",
    "\n",
    "    new_data = list()\n",
    "\n",
    "    for i in range(1000):\n",
    "\n",
    "        if lst[i] > 150000:\n",
    "            k = randint(10000, 20000)\n",
    "            new_data.append(lst[i]+k)\n",
    "\n",
    "        elif lst[i] > 100000:\n",
    "            k = randint(10000, 15000)\n",
    "            new_data.append(lst[i]+k)\n",
    "        \n",
    "        else:\n",
    "            k = randint(5000, 10000)\n",
    "            new_data.append(lst[i]+k)\n",
    "    return new_data"
   ]
  },
  {
   "cell_type": "code",
   "execution_count": 10,
   "metadata": {},
   "outputs": [],
   "source": [
    "# Generating revenues for 2011\n",
    "revenue_2011 = gen_data(revenue_2010)"
   ]
  },
  {
   "cell_type": "code",
   "execution_count": 11,
   "metadata": {},
   "outputs": [],
   "source": [
    "# Generating revenues for 2012\n",
    "revenue_2012 = gen_data(revenue_2011)"
   ]
  },
  {
   "cell_type": "code",
   "execution_count": 12,
   "metadata": {},
   "outputs": [],
   "source": [
    "# Generating revenues for 2013\n",
    "revenue_2013 = gen_data(revenue_2012)"
   ]
  },
  {
   "cell_type": "code",
   "execution_count": 13,
   "metadata": {},
   "outputs": [],
   "source": [
    "# Generating revenues for 2014\n",
    "revenue_2014 = gen_data(revenue_2013)"
   ]
  },
  {
   "cell_type": "code",
   "execution_count": 14,
   "metadata": {},
   "outputs": [],
   "source": [
    "# Generating revenues for 2015\n",
    "revenue_2015 = gen_data(revenue_2014)"
   ]
  },
  {
   "cell_type": "code",
   "execution_count": 15,
   "metadata": {},
   "outputs": [],
   "source": [
    "# Generating revenues for 2016\n",
    "revenue_2016 = gen_data(revenue_2015)"
   ]
  },
  {
   "cell_type": "code",
   "execution_count": 16,
   "metadata": {},
   "outputs": [],
   "source": [
    "# Generating revenues for 2017\n",
    "revenue_2017 = gen_data(revenue_2016)"
   ]
  },
  {
   "cell_type": "code",
   "execution_count": 17,
   "metadata": {},
   "outputs": [],
   "source": [
    "# Generating revenues for 2018\n",
    "revenue_2018 = gen_data(revenue_2017)"
   ]
  },
  {
   "cell_type": "code",
   "execution_count": 18,
   "metadata": {},
   "outputs": [],
   "source": [
    "# Generating revenues for 2019\n",
    "revenue_2019 = gen_data(revenue_2018)"
   ]
  },
  {
   "cell_type": "code",
   "execution_count": 19,
   "metadata": {},
   "outputs": [],
   "source": [
    "# Generating revenues for 2020\n",
    "\n",
    "# A randomly generated data considering size of companies and how much they could lose\n",
    "\n",
    "\n",
    "revenue_2020 = []\n",
    "for i in range(len(revenue_2019)):\n",
    "\n",
    "    if revenue_2019[i] < 150000:\n",
    "        k = randint(40000, 70000)\n",
    "        revenue_2020.append(revenue_2019[i] - k)\n",
    "    \n",
    "    elif revenue_2019[i] < 200000:\n",
    "        k = randint(60000, 100000)\n",
    "        revenue_2020.append(revenue_2019[i] - k)\n",
    "\n",
    "    else:\n",
    "        k = randint(100000, 150000)\n",
    "        revenue_2020.append(revenue_2019[i] - k)\n"
   ]
  },
  {
   "cell_type": "markdown",
   "metadata": {},
   "source": [
    "### Data Aggregations"
   ]
  },
  {
   "cell_type": "code",
   "execution_count": 20,
   "metadata": {},
   "outputs": [
    {
     "output_type": "execute_result",
     "data": {
      "text/plain": "187"
     },
     "metadata": {},
     "execution_count": 20
    }
   ],
   "source": [
    "# Extracting and convering to list of bay area zip codes from the bay area zipcodes dataset\n",
    "\n",
    "zip_codes = list(bay_zip['ZIP'])\n",
    "len(zip_codes)"
   ]
  },
  {
   "cell_type": "code",
   "execution_count": 21,
   "metadata": {},
   "outputs": [],
   "source": [
    "# Assigning local bookstores with random zip codes for prototype\n",
    "\n",
    "zip = list()\n",
    "\n",
    "for i in range(len(revenue_2020)):\n",
    "    k = randint(0,186)\n",
    "    zip.append(zip_codes[k])"
   ]
  },
  {
   "cell_type": "code",
   "execution_count": 22,
   "metadata": {},
   "outputs": [
    {
     "output_type": "execute_result",
     "data": {
      "text/plain": "   2010_revenue_till_june  2011_revenue_till_june  2012_revenue_till_june  \\\n0                  100819                  112509                  123944   \n1                  113084                  126738                  139531   \n2                  146726                  158604                  177580   \n3                  115260                  127096                  138848   \n4                  119924                  130434                  141699   \n\n   2013_revenue_till_june  2014_revenue_till_june  2015_revenue_till_june  \\\n0                  137538                  149566                  164316   \n1                  153422                  167274                  186978   \n2                  194941                  208128                  218759   \n3                  149751                  161231                  176138   \n4                  154061                  165971                  176935   \n\n   2016_revenue_till_june  2017_revenue_till_june  2018_revenue_till_june  \\\n0                  179411                  198312                  218097   \n1                  197318                  215656                  231218   \n2                  230549                  247263                  263878   \n3                  187878                  198611                  214950   \n4                  190425                  204749                  214778   \n\n   2019_revenue_till_june  2020_revenue_till_june  zip_codes  \n0                  230448                  129431      94621  \n1                  248714                  110034      94546  \n2                  279697                  173066      94116  \n3                  231737                  102909      94970  \n4                  228993                  123748      94558  ",
      "text/html": "<div>\n<style scoped>\n    .dataframe tbody tr th:only-of-type {\n        vertical-align: middle;\n    }\n\n    .dataframe tbody tr th {\n        vertical-align: top;\n    }\n\n    .dataframe thead th {\n        text-align: right;\n    }\n</style>\n<table border=\"1\" class=\"dataframe\">\n  <thead>\n    <tr style=\"text-align: right;\">\n      <th></th>\n      <th>2010_revenue_till_june</th>\n      <th>2011_revenue_till_june</th>\n      <th>2012_revenue_till_june</th>\n      <th>2013_revenue_till_june</th>\n      <th>2014_revenue_till_june</th>\n      <th>2015_revenue_till_june</th>\n      <th>2016_revenue_till_june</th>\n      <th>2017_revenue_till_june</th>\n      <th>2018_revenue_till_june</th>\n      <th>2019_revenue_till_june</th>\n      <th>2020_revenue_till_june</th>\n      <th>zip_codes</th>\n    </tr>\n  </thead>\n  <tbody>\n    <tr>\n      <td>0</td>\n      <td>100819</td>\n      <td>112509</td>\n      <td>123944</td>\n      <td>137538</td>\n      <td>149566</td>\n      <td>164316</td>\n      <td>179411</td>\n      <td>198312</td>\n      <td>218097</td>\n      <td>230448</td>\n      <td>129431</td>\n      <td>94621</td>\n    </tr>\n    <tr>\n      <td>1</td>\n      <td>113084</td>\n      <td>126738</td>\n      <td>139531</td>\n      <td>153422</td>\n      <td>167274</td>\n      <td>186978</td>\n      <td>197318</td>\n      <td>215656</td>\n      <td>231218</td>\n      <td>248714</td>\n      <td>110034</td>\n      <td>94546</td>\n    </tr>\n    <tr>\n      <td>2</td>\n      <td>146726</td>\n      <td>158604</td>\n      <td>177580</td>\n      <td>194941</td>\n      <td>208128</td>\n      <td>218759</td>\n      <td>230549</td>\n      <td>247263</td>\n      <td>263878</td>\n      <td>279697</td>\n      <td>173066</td>\n      <td>94116</td>\n    </tr>\n    <tr>\n      <td>3</td>\n      <td>115260</td>\n      <td>127096</td>\n      <td>138848</td>\n      <td>149751</td>\n      <td>161231</td>\n      <td>176138</td>\n      <td>187878</td>\n      <td>198611</td>\n      <td>214950</td>\n      <td>231737</td>\n      <td>102909</td>\n      <td>94970</td>\n    </tr>\n    <tr>\n      <td>4</td>\n      <td>119924</td>\n      <td>130434</td>\n      <td>141699</td>\n      <td>154061</td>\n      <td>165971</td>\n      <td>176935</td>\n      <td>190425</td>\n      <td>204749</td>\n      <td>214778</td>\n      <td>228993</td>\n      <td>123748</td>\n      <td>94558</td>\n    </tr>\n  </tbody>\n</table>\n</div>"
     },
     "metadata": {},
     "execution_count": 22
    }
   ],
   "source": [
    "# Creating a dataframe of the revenue lists and zip codes\n",
    "\n",
    "revenue_df = pd.DataFrame({ '2010_revenue_till_june': revenue_2010, \n",
    "                            '2011_revenue_till_june': revenue_2011,\n",
    "                            '2012_revenue_till_june': revenue_2012, \n",
    "                            '2013_revenue_till_june': revenue_2013, \n",
    "                            '2014_revenue_till_june': revenue_2014, \n",
    "                            '2015_revenue_till_june': revenue_2015, \n",
    "                            '2016_revenue_till_june': revenue_2016, \n",
    "                            '2017_revenue_till_june': revenue_2017, \n",
    "                            '2018_revenue_till_june': revenue_2018, \n",
    "                            '2019_revenue_till_june': revenue_2019, \n",
    "                            '2020_revenue_till_june': revenue_2020,\n",
    "                            'zip_codes': zip})\n",
    "revenue_df.head()"
   ]
  },
  {
   "cell_type": "code",
   "execution_count": 23,
   "metadata": {},
   "outputs": [],
   "source": [
    "# Concatening mock_data dataseta and the newly formed dataset (revenue_df)\n",
    "\n",
    "revenue_data = pd.concat([mock_data, revenue_df], axis=1)"
   ]
  },
  {
   "cell_type": "code",
   "execution_count": 24,
   "metadata": {},
   "outputs": [
    {
     "output_type": "execute_result",
     "data": {
      "text/plain": "          ISBN                    store_name gender_of_owner  \\\n0  357765302-7                 Waters-Wunsch          Female   \n1  998155268-2             VonRueden-Jenkins            Male   \n2  515154998-7  Stanton, Gislason and Deckow          Female   \n3  997744982-1                     Auer-Lind          Female   \n4  484474585-9               Zulauf and Sons          Female   \n\n   2010_revenue_till_june  2011_revenue_till_june  2012_revenue_till_june  \\\n0                  100819                  112509                  123944   \n1                  113084                  126738                  139531   \n2                  146726                  158604                  177580   \n3                  115260                  127096                  138848   \n4                  119924                  130434                  141699   \n\n   2013_revenue_till_june  2014_revenue_till_june  2015_revenue_till_june  \\\n0                  137538                  149566                  164316   \n1                  153422                  167274                  186978   \n2                  194941                  208128                  218759   \n3                  149751                  161231                  176138   \n4                  154061                  165971                  176935   \n\n   2016_revenue_till_june  2017_revenue_till_june  2018_revenue_till_june  \\\n0                  179411                  198312                  218097   \n1                  197318                  215656                  231218   \n2                  230549                  247263                  263878   \n3                  187878                  198611                  214950   \n4                  190425                  204749                  214778   \n\n   2019_revenue_till_june  2020_revenue_till_june  zip_codes  \n0                  230448                  129431      94621  \n1                  248714                  110034      94546  \n2                  279697                  173066      94116  \n3                  231737                  102909      94970  \n4                  228993                  123748      94558  ",
      "text/html": "<div>\n<style scoped>\n    .dataframe tbody tr th:only-of-type {\n        vertical-align: middle;\n    }\n\n    .dataframe tbody tr th {\n        vertical-align: top;\n    }\n\n    .dataframe thead th {\n        text-align: right;\n    }\n</style>\n<table border=\"1\" class=\"dataframe\">\n  <thead>\n    <tr style=\"text-align: right;\">\n      <th></th>\n      <th>ISBN</th>\n      <th>store_name</th>\n      <th>gender_of_owner</th>\n      <th>2010_revenue_till_june</th>\n      <th>2011_revenue_till_june</th>\n      <th>2012_revenue_till_june</th>\n      <th>2013_revenue_till_june</th>\n      <th>2014_revenue_till_june</th>\n      <th>2015_revenue_till_june</th>\n      <th>2016_revenue_till_june</th>\n      <th>2017_revenue_till_june</th>\n      <th>2018_revenue_till_june</th>\n      <th>2019_revenue_till_june</th>\n      <th>2020_revenue_till_june</th>\n      <th>zip_codes</th>\n    </tr>\n  </thead>\n  <tbody>\n    <tr>\n      <td>0</td>\n      <td>357765302-7</td>\n      <td>Waters-Wunsch</td>\n      <td>Female</td>\n      <td>100819</td>\n      <td>112509</td>\n      <td>123944</td>\n      <td>137538</td>\n      <td>149566</td>\n      <td>164316</td>\n      <td>179411</td>\n      <td>198312</td>\n      <td>218097</td>\n      <td>230448</td>\n      <td>129431</td>\n      <td>94621</td>\n    </tr>\n    <tr>\n      <td>1</td>\n      <td>998155268-2</td>\n      <td>VonRueden-Jenkins</td>\n      <td>Male</td>\n      <td>113084</td>\n      <td>126738</td>\n      <td>139531</td>\n      <td>153422</td>\n      <td>167274</td>\n      <td>186978</td>\n      <td>197318</td>\n      <td>215656</td>\n      <td>231218</td>\n      <td>248714</td>\n      <td>110034</td>\n      <td>94546</td>\n    </tr>\n    <tr>\n      <td>2</td>\n      <td>515154998-7</td>\n      <td>Stanton, Gislason and Deckow</td>\n      <td>Female</td>\n      <td>146726</td>\n      <td>158604</td>\n      <td>177580</td>\n      <td>194941</td>\n      <td>208128</td>\n      <td>218759</td>\n      <td>230549</td>\n      <td>247263</td>\n      <td>263878</td>\n      <td>279697</td>\n      <td>173066</td>\n      <td>94116</td>\n    </tr>\n    <tr>\n      <td>3</td>\n      <td>997744982-1</td>\n      <td>Auer-Lind</td>\n      <td>Female</td>\n      <td>115260</td>\n      <td>127096</td>\n      <td>138848</td>\n      <td>149751</td>\n      <td>161231</td>\n      <td>176138</td>\n      <td>187878</td>\n      <td>198611</td>\n      <td>214950</td>\n      <td>231737</td>\n      <td>102909</td>\n      <td>94970</td>\n    </tr>\n    <tr>\n      <td>4</td>\n      <td>484474585-9</td>\n      <td>Zulauf and Sons</td>\n      <td>Female</td>\n      <td>119924</td>\n      <td>130434</td>\n      <td>141699</td>\n      <td>154061</td>\n      <td>165971</td>\n      <td>176935</td>\n      <td>190425</td>\n      <td>204749</td>\n      <td>214778</td>\n      <td>228993</td>\n      <td>123748</td>\n      <td>94558</td>\n    </tr>\n  </tbody>\n</table>\n</div>"
     },
     "metadata": {},
     "execution_count": 24
    }
   ],
   "source": [
    "# Taking a look at the first five local book stores\n",
    "revenue_data.head()"
   ]
  },
  {
   "cell_type": "markdown",
   "metadata": {},
   "source": [
    "### Saving the final generated dataset"
   ]
  },
  {
   "cell_type": "code",
   "execution_count": 25,
   "metadata": {},
   "outputs": [],
   "source": [
    "# Saving dataframe as a csv data\n",
    "revenue_data.to_csv('generated_revenue_data.csv')"
   ]
  }
 ],
 "metadata": {
  "language_info": {
   "codemirror_mode": {
    "name": "ipython",
    "version": 3
   },
   "file_extension": ".py",
   "mimetype": "text/x-python",
   "name": "python",
   "nbconvert_exporter": "python",
   "pygments_lexer": "ipython3",
   "version": "3.6.10-final"
  },
  "orig_nbformat": 2,
  "kernelspec": {
   "name": "python361064bittensorflowconda0aaac7ec2512440c880b9d55ddeeefc5",
   "display_name": "Python 3.6.10 64-bit ('tensorflow': conda)"
  }
 },
 "nbformat": 4,
 "nbformat_minor": 2
}